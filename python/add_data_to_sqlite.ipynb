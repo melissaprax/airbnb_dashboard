{
 "cells": [
  {
   "attachments": {},
   "cell_type": "markdown",
   "metadata": {},
   "source": [
    "## Extract, Transform, and Load Airbnb Data into SQLite Database"
   ]
  },
  {
   "cell_type": "code",
   "execution_count": 1,
   "metadata": {},
   "outputs": [],
   "source": [
    "import pandas as pd\n",
    "import sqlite3\n",
    "from sqlite3 import Error\n",
    "db_file = '..\\data\\db.sqlite'"
   ]
  },
  {
   "cell_type": "code",
   "execution_count": 2,
   "metadata": {},
   "outputs": [],
   "source": [
    "# Read csv file into pandas dataframe\n",
    "airbnb_df = pd.read_csv('..\\data\\AB_NYC_2019.csv')"
   ]
  },
  {
   "cell_type": "code",
   "execution_count": 3,
   "metadata": {},
   "outputs": [
    {
     "data": {
      "text/html": [
       "<div>\n",
       "<style scoped>\n",
       "    .dataframe tbody tr th:only-of-type {\n",
       "        vertical-align: middle;\n",
       "    }\n",
       "\n",
       "    .dataframe tbody tr th {\n",
       "        vertical-align: top;\n",
       "    }\n",
       "\n",
       "    .dataframe thead th {\n",
       "        text-align: right;\n",
       "    }\n",
       "</style>\n",
       "<table border=\"1\" class=\"dataframe\">\n",
       "  <thead>\n",
       "    <tr style=\"text-align: right;\">\n",
       "      <th></th>\n",
       "      <th>id</th>\n",
       "      <th>name</th>\n",
       "      <th>host_id</th>\n",
       "      <th>host_name</th>\n",
       "      <th>neighbourhood_group</th>\n",
       "      <th>neighbourhood</th>\n",
       "      <th>latitude</th>\n",
       "      <th>longitude</th>\n",
       "      <th>room_type</th>\n",
       "      <th>price</th>\n",
       "      <th>minimum_nights</th>\n",
       "      <th>number_of_reviews</th>\n",
       "      <th>last_review</th>\n",
       "      <th>reviews_per_month</th>\n",
       "      <th>calculated_host_listings_count</th>\n",
       "      <th>availability_365</th>\n",
       "    </tr>\n",
       "  </thead>\n",
       "  <tbody>\n",
       "    <tr>\n",
       "      <th>0</th>\n",
       "      <td>2539</td>\n",
       "      <td>Clean &amp; quiet apt home by the park</td>\n",
       "      <td>2787</td>\n",
       "      <td>John</td>\n",
       "      <td>Brooklyn</td>\n",
       "      <td>Kensington</td>\n",
       "      <td>40.64749</td>\n",
       "      <td>-73.97237</td>\n",
       "      <td>Private room</td>\n",
       "      <td>149</td>\n",
       "      <td>1</td>\n",
       "      <td>9</td>\n",
       "      <td>2018-10-19</td>\n",
       "      <td>0.21</td>\n",
       "      <td>6</td>\n",
       "      <td>365</td>\n",
       "    </tr>\n",
       "    <tr>\n",
       "      <th>1</th>\n",
       "      <td>2595</td>\n",
       "      <td>Skylit Midtown Castle</td>\n",
       "      <td>2845</td>\n",
       "      <td>Jennifer</td>\n",
       "      <td>Manhattan</td>\n",
       "      <td>Midtown</td>\n",
       "      <td>40.75362</td>\n",
       "      <td>-73.98377</td>\n",
       "      <td>Entire home/apt</td>\n",
       "      <td>225</td>\n",
       "      <td>1</td>\n",
       "      <td>45</td>\n",
       "      <td>2019-05-21</td>\n",
       "      <td>0.38</td>\n",
       "      <td>2</td>\n",
       "      <td>355</td>\n",
       "    </tr>\n",
       "    <tr>\n",
       "      <th>2</th>\n",
       "      <td>3647</td>\n",
       "      <td>THE VILLAGE OF HARLEM....NEW YORK !</td>\n",
       "      <td>4632</td>\n",
       "      <td>Elisabeth</td>\n",
       "      <td>Manhattan</td>\n",
       "      <td>Harlem</td>\n",
       "      <td>40.80902</td>\n",
       "      <td>-73.94190</td>\n",
       "      <td>Private room</td>\n",
       "      <td>150</td>\n",
       "      <td>3</td>\n",
       "      <td>0</td>\n",
       "      <td>NaN</td>\n",
       "      <td>NaN</td>\n",
       "      <td>1</td>\n",
       "      <td>365</td>\n",
       "    </tr>\n",
       "    <tr>\n",
       "      <th>3</th>\n",
       "      <td>3831</td>\n",
       "      <td>Cozy Entire Floor of Brownstone</td>\n",
       "      <td>4869</td>\n",
       "      <td>LisaRoxanne</td>\n",
       "      <td>Brooklyn</td>\n",
       "      <td>Clinton Hill</td>\n",
       "      <td>40.68514</td>\n",
       "      <td>-73.95976</td>\n",
       "      <td>Entire home/apt</td>\n",
       "      <td>89</td>\n",
       "      <td>1</td>\n",
       "      <td>270</td>\n",
       "      <td>2019-07-05</td>\n",
       "      <td>4.64</td>\n",
       "      <td>1</td>\n",
       "      <td>194</td>\n",
       "    </tr>\n",
       "    <tr>\n",
       "      <th>4</th>\n",
       "      <td>5022</td>\n",
       "      <td>Entire Apt: Spacious Studio/Loft by central park</td>\n",
       "      <td>7192</td>\n",
       "      <td>Laura</td>\n",
       "      <td>Manhattan</td>\n",
       "      <td>East Harlem</td>\n",
       "      <td>40.79851</td>\n",
       "      <td>-73.94399</td>\n",
       "      <td>Entire home/apt</td>\n",
       "      <td>80</td>\n",
       "      <td>10</td>\n",
       "      <td>9</td>\n",
       "      <td>2018-11-19</td>\n",
       "      <td>0.10</td>\n",
       "      <td>1</td>\n",
       "      <td>0</td>\n",
       "    </tr>\n",
       "  </tbody>\n",
       "</table>\n",
       "</div>"
      ],
      "text/plain": [
       "     id                                              name  host_id  \\\n",
       "0  2539                Clean & quiet apt home by the park     2787   \n",
       "1  2595                             Skylit Midtown Castle     2845   \n",
       "2  3647               THE VILLAGE OF HARLEM....NEW YORK !     4632   \n",
       "3  3831                   Cozy Entire Floor of Brownstone     4869   \n",
       "4  5022  Entire Apt: Spacious Studio/Loft by central park     7192   \n",
       "\n",
       "     host_name neighbourhood_group neighbourhood  latitude  longitude  \\\n",
       "0         John            Brooklyn    Kensington  40.64749  -73.97237   \n",
       "1     Jennifer           Manhattan       Midtown  40.75362  -73.98377   \n",
       "2    Elisabeth           Manhattan        Harlem  40.80902  -73.94190   \n",
       "3  LisaRoxanne            Brooklyn  Clinton Hill  40.68514  -73.95976   \n",
       "4        Laura           Manhattan   East Harlem  40.79851  -73.94399   \n",
       "\n",
       "         room_type  price  minimum_nights  number_of_reviews last_review  \\\n",
       "0     Private room    149               1                  9  2018-10-19   \n",
       "1  Entire home/apt    225               1                 45  2019-05-21   \n",
       "2     Private room    150               3                  0         NaN   \n",
       "3  Entire home/apt     89               1                270  2019-07-05   \n",
       "4  Entire home/apt     80              10                  9  2018-11-19   \n",
       "\n",
       "   reviews_per_month  calculated_host_listings_count  availability_365  \n",
       "0               0.21                               6               365  \n",
       "1               0.38                               2               355  \n",
       "2                NaN                               1               365  \n",
       "3               4.64                               1               194  \n",
       "4               0.10                               1                 0  "
      ]
     },
     "execution_count": 3,
     "metadata": {},
     "output_type": "execute_result"
    }
   ],
   "source": [
    "# Inspect dataframe\n",
    "airbnb_df.head()"
   ]
  },
  {
   "cell_type": "code",
   "execution_count": 4,
   "metadata": {},
   "outputs": [
    {
     "name": "stdout",
     "output_type": "stream",
     "text": [
      "<class 'pandas.core.frame.DataFrame'>\n",
      "RangeIndex: 48895 entries, 0 to 48894\n",
      "Data columns (total 16 columns):\n",
      " #   Column                          Non-Null Count  Dtype  \n",
      "---  ------                          --------------  -----  \n",
      " 0   id                              48895 non-null  int64  \n",
      " 1   name                            48879 non-null  object \n",
      " 2   host_id                         48895 non-null  int64  \n",
      " 3   host_name                       48874 non-null  object \n",
      " 4   neighbourhood_group             48895 non-null  object \n",
      " 5   neighbourhood                   48895 non-null  object \n",
      " 6   latitude                        48895 non-null  float64\n",
      " 7   longitude                       48895 non-null  float64\n",
      " 8   room_type                       48895 non-null  object \n",
      " 9   price                           48895 non-null  int64  \n",
      " 10  minimum_nights                  48895 non-null  int64  \n",
      " 11  number_of_reviews               48895 non-null  int64  \n",
      " 12  last_review                     38843 non-null  object \n",
      " 13  reviews_per_month               38843 non-null  float64\n",
      " 14  calculated_host_listings_count  48895 non-null  int64  \n",
      " 15  availability_365                48895 non-null  int64  \n",
      "dtypes: float64(3), int64(7), object(6)\n",
      "memory usage: 6.0+ MB\n"
     ]
    }
   ],
   "source": [
    "# Get info on dataframe\n",
    "airbnb_df.info()"
   ]
  },
  {
   "cell_type": "code",
   "execution_count": 5,
   "metadata": {},
   "outputs": [],
   "source": [
    "# Convert dataframe to json and save to file\n",
    "airbnb_df.to_json('..\\data\\AB_NYC_2019.json')"
   ]
  },
  {
   "attachments": {},
   "cell_type": "markdown",
   "metadata": {},
   "source": [
    "## Create a Connection to an SQLite Database & Tables within it"
   ]
  },
  {
   "cell_type": "code",
   "execution_count": 6,
   "metadata": {},
   "outputs": [],
   "source": [
    "# Define a function to create a database connection\n",
    "def create_connection(db_file):\n",
    "    \"\"\" create a database connection to a SQLite database\n",
    "        specified by db_file\n",
    "    :param db_file: database file\n",
    "    :return: Connection object or None\n",
    "    \"\"\"\n",
    "    conn = None\n",
    "    try:\n",
    "        conn = sqlite3.connect(db_file)\n",
    "        return conn\n",
    "    except Error as e:\n",
    "        print(e)\n",
    "        \n",
    "    return conn"
   ]
  },
  {
   "cell_type": "code",
   "execution_count": 7,
   "metadata": {},
   "outputs": [],
   "source": [
    "# Define a function to create a table\n",
    "def create_table(conn, create_table_sql):\n",
    "    \"\"\" create a table from the create_table_sql statement\n",
    "    :param conn: Connection object\n",
    "    :param create_table_sql: a CREATE TABLE statement\n",
    "    :return:\n",
    "    \"\"\"\n",
    "    try:\n",
    "        c = conn.cursor()\n",
    "        c.execute(create_table_sql)\n",
    "    except Error as e:\n",
    "        print(e)"
   ]
  },
  {
   "cell_type": "code",
   "execution_count": 8,
   "metadata": {},
   "outputs": [
    {
     "data": {
      "text/plain": [
       "Index(['id', 'name', 'host_id', 'host_name', 'neighbourhood_group',\n",
       "       'neighbourhood', 'latitude', 'longitude', 'room_type', 'price',\n",
       "       'minimum_nights', 'number_of_reviews', 'last_review',\n",
       "       'reviews_per_month', 'calculated_host_listings_count',\n",
       "       'availability_365'],\n",
       "      dtype='object')"
      ]
     },
     "execution_count": 8,
     "metadata": {},
     "output_type": "execute_result"
    }
   ],
   "source": [
    "# Reference df columns for creating table\n",
    "airbnb_df.columns"
   ]
  },
  {
   "cell_type": "code",
   "execution_count": 11,
   "metadata": {},
   "outputs": [],
   "source": [
    "# Define a function to create a project\n",
    "def main():\n",
    "    database = db_file\n",
    "    \n",
    "    sql_create_airbnb_table = \"\"\" CREATE TABLE IF NOT EXISTS airbnb (\n",
    "                                        id integer PRIMARY KEY NOT NULL,\n",
    "                                        name text NOT NULL,\n",
    "                                        host_id integer NOT NULL,\n",
    "                                        host_name text NOT NULL,\n",
    "                                        neighbourhood_group text NOT NULL,\n",
    "                                        neighbourhood text NOT NULL,\n",
    "                                        latitude real NOT NULL,\n",
    "                                        longitude real NOT NULL,\n",
    "                                        room_type text NOT NULL,\n",
    "                                        price integer NOT NULL,\n",
    "                                        minimum_nights integer NOT NULL,\n",
    "                                        number_of_reviews integer NOT NULL,\n",
    "                                        last_review text NOT NULL,\n",
    "                                        reviews_per_month real NOT NULL,\n",
    "                                        calculated_host_listings_count integer NOT NULL,\n",
    "                                        availability_365 integer NOT NULL\n",
    "                                    ); \"\"\"\n",
    "    # Create a database connection\n",
    "    conn = create_connection(database)\n",
    "\n",
    "    # Create table\n",
    "    if conn is not None:\n",
    "        # Create airbnb table\n",
    "        create_table(conn, sql_create_airbnb_table)\n",
    "    else:\n",
    "        print(\"Error! cannot create the database connection.\")\n",
    "                                        "
   ]
  },
  {
   "cell_type": "code",
   "execution_count": 12,
   "metadata": {},
   "outputs": [],
   "source": [
    "if __name__ == '__main__':\n",
    "    main()"
   ]
  },
  {
   "attachments": {},
   "cell_type": "markdown",
   "metadata": {},
   "source": [
    "## Add records to sqlite database"
   ]
  },
  {
   "attachments": {},
   "cell_type": "markdown",
   "metadata": {},
   "source": [
    "### Note: This involves create_connection(), create_record(), and main() functions.\n",
    "### - create_connection() creates a database connection to the SQLite database specified by db_file. (it already exists)\n",
    "### - create_record() inserts a new record into the airbnb table.\n",
    "### - main() calls the create_connection() function to create a database connection and calls the create_record() function to insert a new record.\n"
   ]
  },
  {
   "cell_type": "code",
   "execution_count": 9,
   "metadata": {},
   "outputs": [],
   "source": [
    "# Define function to create insert a new record into the airbnb table\n",
    "def create_record(conn, record):\n",
    "    sql = ''' INSERT INTO airbnb(id,name,host_id,host_name,neighbourhood_group,\n",
    "                neighbourhood,latitude,longitude,room_type,price,minimun_nights,number_of_reviews,\n",
    "                    last_review,reviews_per_month,calculated_host_listings_count,availability_365)\n",
    "                        VALUES(?,?,?,?,?,?,?,?,?,?,?,?,?,?,?,?) '''\n",
    "    cur = conn.cursor()\n",
    "    cur.execute(sql, record)\n",
    "    conn.commit()\n",
    "    return cur.lastrowid"
   ]
  },
  {
   "cell_type": "code",
   "execution_count": 10,
   "metadata": {},
   "outputs": [],
   "source": [
    "# Define main() function to call create_connection() and create_record() functions\n",
    "def main():\n",
    "    # Define database\n",
    "    database = db_file\n",
    "    \n",
    "    # Create connection to database\n",
    "    conn = create_connection(database)\n",
    "    \n",
    "    for row in airbnb_df.itertuples():\n",
    "        with conn:\n",
    "            record = (row.id, row.name, row.host_id, row.host_name, row.neighbourhood_group, row.neighbourhood,\n",
    "                      row.latitude, row.longitude, row.room_type, row.price, row.minimum_nights, row.number_of_reviews,\n",
    "                      row.last_review, row.reviews_per_month, row.calculated_host_listings_count, row.availability_365)\n",
    "            create_record(conn, record)"
   ]
  },
  {
   "cell_type": "code",
   "execution_count": 14,
   "metadata": {},
   "outputs": [
    {
     "ename": "OperationalError",
     "evalue": "no such table: airbnb_table",
     "output_type": "error",
     "traceback": [
      "\u001b[1;31m---------------------------------------------------------------------------\u001b[0m",
      "\u001b[1;31mOperationalError\u001b[0m                          Traceback (most recent call last)",
      "Cell \u001b[1;32mIn[14], line 3\u001b[0m\n\u001b[0;32m      1\u001b[0m \u001b[39m# Call main() function\u001b[39;00m\n\u001b[0;32m      2\u001b[0m \u001b[39mif\u001b[39;00m \u001b[39m__name__\u001b[39m \u001b[39m==\u001b[39m \u001b[39m'\u001b[39m\u001b[39m__main__\u001b[39m\u001b[39m'\u001b[39m:\n\u001b[1;32m----> 3\u001b[0m     main()\n",
      "Cell \u001b[1;32mIn[10], line 14\u001b[0m, in \u001b[0;36mmain\u001b[1;34m()\u001b[0m\n\u001b[0;32m     10\u001b[0m \u001b[39mwith\u001b[39;00m conn:\n\u001b[0;32m     11\u001b[0m     record \u001b[39m=\u001b[39m (row\u001b[39m.\u001b[39mid, row\u001b[39m.\u001b[39mname, row\u001b[39m.\u001b[39mhost_id, row\u001b[39m.\u001b[39mhost_name, row\u001b[39m.\u001b[39mneighbourhood_group, row\u001b[39m.\u001b[39mneighbourhood,\n\u001b[0;32m     12\u001b[0m               row\u001b[39m.\u001b[39mlatitude, row\u001b[39m.\u001b[39mlongitude, row\u001b[39m.\u001b[39mroom_type, row\u001b[39m.\u001b[39mprice, row\u001b[39m.\u001b[39mminimum_nights, row\u001b[39m.\u001b[39mnumber_of_reviews,\n\u001b[0;32m     13\u001b[0m               row\u001b[39m.\u001b[39mlast_review, row\u001b[39m.\u001b[39mreviews_per_month, row\u001b[39m.\u001b[39mcalculated_host_listings_count, row\u001b[39m.\u001b[39mavailability_365)\n\u001b[1;32m---> 14\u001b[0m     create_record(conn, record)\n",
      "Cell \u001b[1;32mIn[9], line 8\u001b[0m, in \u001b[0;36mcreate_record\u001b[1;34m(conn, record)\u001b[0m\n\u001b[0;32m      3\u001b[0m sql \u001b[39m=\u001b[39m \u001b[39m'''\u001b[39m\u001b[39m INSERT INTO airbnb_table(id,name,host_id,host_name,neighbourhood_group,\u001b[39m\n\u001b[0;32m      4\u001b[0m \u001b[39m            neighbourhood,latitude,longitude,room_type,price,minimun_nights,number_of_reviews,\u001b[39m\n\u001b[0;32m      5\u001b[0m \u001b[39m                last_review,reviews_per_month,calculated_host_listings_count,availability_365)\u001b[39m\n\u001b[0;32m      6\u001b[0m \u001b[39m                    VALUES(?,?,?,?,?,?,?,?,?,?,?,?,?,?,?,?) \u001b[39m\u001b[39m'''\u001b[39m\n\u001b[0;32m      7\u001b[0m cur \u001b[39m=\u001b[39m conn\u001b[39m.\u001b[39mcursor()\n\u001b[1;32m----> 8\u001b[0m cur\u001b[39m.\u001b[39;49mexecute(sql, record)\n\u001b[0;32m      9\u001b[0m conn\u001b[39m.\u001b[39mcommit()\n\u001b[0;32m     10\u001b[0m \u001b[39mreturn\u001b[39;00m cur\u001b[39m.\u001b[39mlastrowid\n",
      "\u001b[1;31mOperationalError\u001b[0m: no such table: airbnb_table"
     ]
    }
   ],
   "source": [
    "# Call main() function\n",
    "if __name__ == '__main__':\n",
    "    main()"
   ]
  },
  {
   "cell_type": "code",
   "execution_count": null,
   "metadata": {},
   "outputs": [],
   "source": [
    "# Create function to drop table if exists\n",
    "def drop_table(conn, table_name):\n",
    "    drop_table_sql = f\"DROP TABLE IF EXISTS {table_name};\"\n",
    "\n",
    "# Call drop_table function\n",
    "drop_table(conn, 'airbnb_table')\n",
    "\n",
    "# Close connection\n",
    "conn.close()"
   ]
  }
 ],
 "metadata": {
  "kernelspec": {
   "display_name": "geoapify",
   "language": "python",
   "name": "geoapify"
  },
  "language_info": {
   "codemirror_mode": {
    "name": "ipython",
    "version": 3
   },
   "file_extension": ".py",
   "mimetype": "text/x-python",
   "name": "python",
   "nbconvert_exporter": "python",
   "pygments_lexer": "ipython3",
   "version": "3.9.16"
  },
  "orig_nbformat": 4
 },
 "nbformat": 4,
 "nbformat_minor": 2
}
