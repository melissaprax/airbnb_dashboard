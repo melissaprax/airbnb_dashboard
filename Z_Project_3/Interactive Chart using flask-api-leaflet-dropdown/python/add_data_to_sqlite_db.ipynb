{
 "cells": [
  {
   "cell_type": "markdown",
   "id": "phantom-setting",
   "metadata": {},
   "source": [
    "## Import Packages"
   ]
  },
  {
   "cell_type": "code",
   "execution_count": 11,
   "id": "genuine-albert",
   "metadata": {
    "tags": []
   },
   "outputs": [],
   "source": [
    "import sqlite3\n",
    "from sqlite3 import Error\n",
    "import pandas as pd\n",
    "database_file_location = \"./data/suicide.db\""
   ]
  },
  {
   "cell_type": "markdown",
   "id": "imposed-closer",
   "metadata": {},
   "source": [
    "## Collect data into dataframe of format:\n",
    "* columns = [\"state\", \"s2019\", \"s2020\"]\n",
    "* index = \"state\""
   ]
  },
  {
   "cell_type": "code",
   "execution_count": 12,
   "id": "pressing-iceland",
   "metadata": {},
   "outputs": [],
   "source": [
    "df2019_suicides = pd.read_json('./data/properties_2019.json')\n",
    "df2020_suicides = pd.read_json('./data/properties_2020.json')"
   ]
  },
  {
   "cell_type": "code",
   "execution_count": 13,
   "id": "distinguished-toronto",
   "metadata": {},
   "outputs": [
    {
     "data": {
      "text/html": [
       "<div>\n",
       "<style scoped>\n",
       "    .dataframe tbody tr th:only-of-type {\n",
       "        vertical-align: middle;\n",
       "    }\n",
       "\n",
       "    .dataframe tbody tr th {\n",
       "        vertical-align: top;\n",
       "    }\n",
       "\n",
       "    .dataframe thead th {\n",
       "        text-align: right;\n",
       "    }\n",
       "</style>\n",
       "<table border=\"1\" class=\"dataframe\">\n",
       "  <thead>\n",
       "    <tr style=\"text-align: right;\">\n",
       "      <th></th>\n",
       "      <th>ADMIN</th>\n",
       "      <th>ISO_A3</th>\n",
       "      <th>ISO_A2</th>\n",
       "      <th>year</th>\n",
       "      <th>s2019</th>\n",
       "      <th>s2020</th>\n",
       "    </tr>\n",
       "  </thead>\n",
       "  <tbody>\n",
       "    <tr>\n",
       "      <th>0</th>\n",
       "      <td>Aruba</td>\n",
       "      <td>ABW</td>\n",
       "      <td>AW</td>\n",
       "      <td>2020</td>\n",
       "      <td>56</td>\n",
       "      <td>89</td>\n",
       "    </tr>\n",
       "    <tr>\n",
       "      <th>1</th>\n",
       "      <td>Afghanistan</td>\n",
       "      <td>AFG</td>\n",
       "      <td>AF</td>\n",
       "      <td>2020</td>\n",
       "      <td>52</td>\n",
       "      <td>61</td>\n",
       "    </tr>\n",
       "    <tr>\n",
       "      <th>2</th>\n",
       "      <td>Angola</td>\n",
       "      <td>AGO</td>\n",
       "      <td>AO</td>\n",
       "      <td>2020</td>\n",
       "      <td>71</td>\n",
       "      <td>53</td>\n",
       "    </tr>\n",
       "    <tr>\n",
       "      <th>3</th>\n",
       "      <td>Anguilla</td>\n",
       "      <td>AIA</td>\n",
       "      <td>AI</td>\n",
       "      <td>2020</td>\n",
       "      <td>48</td>\n",
       "      <td>32</td>\n",
       "    </tr>\n",
       "    <tr>\n",
       "      <th>4</th>\n",
       "      <td>Albania</td>\n",
       "      <td>ALB</td>\n",
       "      <td>AL</td>\n",
       "      <td>2020</td>\n",
       "      <td>66</td>\n",
       "      <td>85</td>\n",
       "    </tr>\n",
       "  </tbody>\n",
       "</table>\n",
       "</div>"
      ],
      "text/plain": [
       "         ADMIN ISO_A3 ISO_A2  year  s2019  s2020\n",
       "0        Aruba    ABW     AW  2020     56     89\n",
       "1  Afghanistan    AFG     AF  2020     52     61\n",
       "2       Angola    AGO     AO  2020     71     53\n",
       "3     Anguilla    AIA     AI  2020     48     32\n",
       "4      Albania    ALB     AL  2020     66     85"
      ]
     },
     "execution_count": 13,
     "metadata": {},
     "output_type": "execute_result"
    }
   ],
   "source": [
    "df2020_suicides.head()"
   ]
  },
  {
   "cell_type": "code",
   "execution_count": 14,
   "id": "mental-start",
   "metadata": {},
   "outputs": [
    {
     "data": {
      "text/html": [
       "<div>\n",
       "<style scoped>\n",
       "    .dataframe tbody tr th:only-of-type {\n",
       "        vertical-align: middle;\n",
       "    }\n",
       "\n",
       "    .dataframe tbody tr th {\n",
       "        vertical-align: top;\n",
       "    }\n",
       "\n",
       "    .dataframe thead th {\n",
       "        text-align: right;\n",
       "    }\n",
       "</style>\n",
       "<table border=\"1\" class=\"dataframe\">\n",
       "  <thead>\n",
       "    <tr style=\"text-align: right;\">\n",
       "      <th></th>\n",
       "      <th>ADMIN</th>\n",
       "      <th>ISO_A3</th>\n",
       "      <th>ISO_A2</th>\n",
       "      <th>year</th>\n",
       "      <th>s2019</th>\n",
       "    </tr>\n",
       "  </thead>\n",
       "  <tbody>\n",
       "    <tr>\n",
       "      <th>0</th>\n",
       "      <td>Aruba</td>\n",
       "      <td>ABW</td>\n",
       "      <td>AW</td>\n",
       "      <td>2019</td>\n",
       "      <td>56</td>\n",
       "    </tr>\n",
       "    <tr>\n",
       "      <th>1</th>\n",
       "      <td>Afghanistan</td>\n",
       "      <td>AFG</td>\n",
       "      <td>AF</td>\n",
       "      <td>2019</td>\n",
       "      <td>52</td>\n",
       "    </tr>\n",
       "    <tr>\n",
       "      <th>2</th>\n",
       "      <td>Angola</td>\n",
       "      <td>AGO</td>\n",
       "      <td>AO</td>\n",
       "      <td>2019</td>\n",
       "      <td>71</td>\n",
       "    </tr>\n",
       "    <tr>\n",
       "      <th>3</th>\n",
       "      <td>Anguilla</td>\n",
       "      <td>AIA</td>\n",
       "      <td>AI</td>\n",
       "      <td>2019</td>\n",
       "      <td>48</td>\n",
       "    </tr>\n",
       "    <tr>\n",
       "      <th>4</th>\n",
       "      <td>Albania</td>\n",
       "      <td>ALB</td>\n",
       "      <td>AL</td>\n",
       "      <td>2019</td>\n",
       "      <td>66</td>\n",
       "    </tr>\n",
       "  </tbody>\n",
       "</table>\n",
       "</div>"
      ],
      "text/plain": [
       "         ADMIN ISO_A3 ISO_A2  year  s2019\n",
       "0        Aruba    ABW     AW  2019     56\n",
       "1  Afghanistan    AFG     AF  2019     52\n",
       "2       Angola    AGO     AO  2019     71\n",
       "3     Anguilla    AIA     AI  2019     48\n",
       "4      Albania    ALB     AL  2019     66"
      ]
     },
     "execution_count": 14,
     "metadata": {},
     "output_type": "execute_result"
    }
   ],
   "source": [
    "df2019_suicides.head()"
   ]
  },
  {
   "cell_type": "code",
   "execution_count": 15,
   "id": "local-credit",
   "metadata": {},
   "outputs": [],
   "source": [
    "# df2020_suicides.rename(columns={'value': \"s2020\"}, inplace=True)\n",
    "# df2019_suicides.rename(columns={'value': \"s2019\"}, inplace=True)"
   ]
  },
  {
   "cell_type": "code",
   "execution_count": 16,
   "id": "cooperative-final",
   "metadata": {},
   "outputs": [],
   "source": [
    "df2020 = df2020_suicides[['ADMIN', 's2020']]\n",
    "df2019 = df2019_suicides[['ADMIN', 's2019']]"
   ]
  },
  {
   "cell_type": "code",
   "execution_count": 17,
   "id": "ignored-snowboard",
   "metadata": {},
   "outputs": [
    {
     "data": {
      "text/html": [
       "<div>\n",
       "<style scoped>\n",
       "    .dataframe tbody tr th:only-of-type {\n",
       "        vertical-align: middle;\n",
       "    }\n",
       "\n",
       "    .dataframe tbody tr th {\n",
       "        vertical-align: top;\n",
       "    }\n",
       "\n",
       "    .dataframe thead th {\n",
       "        text-align: right;\n",
       "    }\n",
       "</style>\n",
       "<table border=\"1\" class=\"dataframe\">\n",
       "  <thead>\n",
       "    <tr style=\"text-align: right;\">\n",
       "      <th></th>\n",
       "      <th>s2020</th>\n",
       "      <th>s2019</th>\n",
       "    </tr>\n",
       "    <tr>\n",
       "      <th>ADMIN</th>\n",
       "      <th></th>\n",
       "      <th></th>\n",
       "    </tr>\n",
       "  </thead>\n",
       "  <tbody>\n",
       "    <tr>\n",
       "      <th>Aruba</th>\n",
       "      <td>89</td>\n",
       "      <td>56</td>\n",
       "    </tr>\n",
       "    <tr>\n",
       "      <th>Afghanistan</th>\n",
       "      <td>61</td>\n",
       "      <td>52</td>\n",
       "    </tr>\n",
       "    <tr>\n",
       "      <th>Angola</th>\n",
       "      <td>53</td>\n",
       "      <td>71</td>\n",
       "    </tr>\n",
       "    <tr>\n",
       "      <th>Anguilla</th>\n",
       "      <td>32</td>\n",
       "      <td>48</td>\n",
       "    </tr>\n",
       "    <tr>\n",
       "      <th>Albania</th>\n",
       "      <td>85</td>\n",
       "      <td>66</td>\n",
       "    </tr>\n",
       "  </tbody>\n",
       "</table>\n",
       "</div>"
      ],
      "text/plain": [
       "             s2020  s2019\n",
       "ADMIN                    \n",
       "Aruba           89     56\n",
       "Afghanistan     61     52\n",
       "Angola          53     71\n",
       "Anguilla        32     48\n",
       "Albania         85     66"
      ]
     },
     "execution_count": 17,
     "metadata": {},
     "output_type": "execute_result"
    }
   ],
   "source": [
    "suicides_by_year_df = df2020.merge(df2019)\n",
    "suicides_by_year_df.set_index(\"ADMIN\", inplace=True)\n",
    "suicides_by_year_df.head()"
   ]
  },
  {
   "cell_type": "code",
   "execution_count": 18,
   "id": "latin-placement",
   "metadata": {},
   "outputs": [
    {
     "data": {
      "text/html": [
       "<div>\n",
       "<style scoped>\n",
       "    .dataframe tbody tr th:only-of-type {\n",
       "        vertical-align: middle;\n",
       "    }\n",
       "\n",
       "    .dataframe tbody tr th {\n",
       "        vertical-align: top;\n",
       "    }\n",
       "\n",
       "    .dataframe thead th {\n",
       "        text-align: right;\n",
       "    }\n",
       "</style>\n",
       "<table border=\"1\" class=\"dataframe\">\n",
       "  <thead>\n",
       "    <tr style=\"text-align: right;\">\n",
       "      <th></th>\n",
       "      <th>s2020</th>\n",
       "      <th>s2019</th>\n",
       "      <th>s2018</th>\n",
       "      <th>s2017</th>\n",
       "    </tr>\n",
       "    <tr>\n",
       "      <th>ADMIN</th>\n",
       "      <th></th>\n",
       "      <th></th>\n",
       "      <th></th>\n",
       "      <th></th>\n",
       "    </tr>\n",
       "  </thead>\n",
       "  <tbody>\n",
       "    <tr>\n",
       "      <th>Aruba</th>\n",
       "      <td>89</td>\n",
       "      <td>56</td>\n",
       "      <td>72.5</td>\n",
       "      <td>132</td>\n",
       "    </tr>\n",
       "    <tr>\n",
       "      <th>Afghanistan</th>\n",
       "      <td>61</td>\n",
       "      <td>52</td>\n",
       "      <td>56.5</td>\n",
       "      <td>36</td>\n",
       "    </tr>\n",
       "    <tr>\n",
       "      <th>Angola</th>\n",
       "      <td>53</td>\n",
       "      <td>71</td>\n",
       "      <td>62.0</td>\n",
       "      <td>72</td>\n",
       "    </tr>\n",
       "    <tr>\n",
       "      <th>Anguilla</th>\n",
       "      <td>32</td>\n",
       "      <td>48</td>\n",
       "      <td>40.0</td>\n",
       "      <td>64</td>\n",
       "    </tr>\n",
       "    <tr>\n",
       "      <th>Albania</th>\n",
       "      <td>85</td>\n",
       "      <td>66</td>\n",
       "      <td>75.5</td>\n",
       "      <td>76</td>\n",
       "    </tr>\n",
       "  </tbody>\n",
       "</table>\n",
       "</div>"
      ],
      "text/plain": [
       "             s2020  s2019  s2018  s2017\n",
       "ADMIN                                  \n",
       "Aruba           89     56   72.5    132\n",
       "Afghanistan     61     52   56.5     36\n",
       "Angola          53     71   62.0     72\n",
       "Anguilla        32     48   40.0     64\n",
       "Albania         85     66   75.5     76"
      ]
     },
     "execution_count": 18,
     "metadata": {},
     "output_type": "execute_result"
    }
   ],
   "source": [
    "# more fake data\n",
    "suicides_by_year_df['s2018'] = (suicides_by_year_df['s2019'] + suicides_by_year_df['s2020'])/2\n",
    "suicides_by_year_df['s2017'] = abs(suicides_by_year_df['s2019'] - suicides_by_year_df['s2020'])*4\n",
    "suicides_by_year_df.head()"
   ]
  },
  {
   "cell_type": "code",
   "execution_count": 27,
   "id": "recent-playing",
   "metadata": {},
   "outputs": [],
   "source": [
    "suicides_T = suicides_by_year_df.T"
   ]
  },
  {
   "cell_type": "code",
   "execution_count": 28,
   "id": "responsible-preview",
   "metadata": {},
   "outputs": [],
   "source": [
    "suicides_T.to_json('./data/properties4.json')"
   ]
  },
  {
   "cell_type": "markdown",
   "id": "figured-evans",
   "metadata": {},
   "source": [
    "## Add records to database"
   ]
  },
  {
   "cell_type": "code",
   "execution_count": 19,
   "id": "suburban-viking",
   "metadata": {
    "tags": []
   },
   "outputs": [],
   "source": [
    "def create_connection(db_file):\n",
    "    \"\"\" create a database connection to the SQLite database\n",
    "        specified by db_file\n",
    "    :param db_file: database file\n",
    "    :return: Connection object or None\n",
    "    \"\"\"\n",
    "    conn = None\n",
    "    try:\n",
    "        conn = sqlite3.connect(db_file)\n",
    "    except Error as e:\n",
    "        print(e)\n",
    "\n",
    "    return conn"
   ]
  },
  {
   "cell_type": "code",
   "execution_count": 23,
   "id": "chronic-triangle",
   "metadata": {},
   "outputs": [],
   "source": [
    "def create_record(conn, project):\n",
    "    \"\"\"\n",
    "    Create a new project into the projects table\n",
    "    :param conn:\n",
    "    :param project:\n",
    "    :return: project id\n",
    "    \"\"\"\n",
    "    sql = ''' INSERT INTO suicides(country,s2017,s2018,s2019,s2020)\n",
    "              VALUES(?,?,?,?,?) '''\n",
    "    cur = conn.cursor()\n",
    "    cur.execute(sql, project)\n",
    "    conn.commit()\n",
    "    return cur.lastrowid"
   ]
  },
  {
   "cell_type": "code",
   "execution_count": 24,
   "id": "cosmetic-oxide",
   "metadata": {},
   "outputs": [],
   "source": [
    "def main():\n",
    "    database = database_file_location\n",
    "    \n",
    "    # create a database connection\n",
    "    conn = create_connection(database)\n",
    "    \n",
    "    for row in suicides_by_year_df.itertuples():\n",
    "        with conn:\n",
    "            # create a new record\n",
    "            record = (row[0], row[4], row[3], row[2], row[1]);\n",
    "            record_id = create_record(conn, record)\n"
   ]
  },
  {
   "cell_type": "code",
   "execution_count": 25,
   "id": "norwegian-professional",
   "metadata": {},
   "outputs": [],
   "source": [
    "if __name__ == '__main__':\n",
    "    main()"
   ]
  },
  {
   "cell_type": "code",
   "execution_count": null,
   "id": "internal-reference",
   "metadata": {},
   "outputs": [],
   "source": []
  },
  {
   "cell_type": "code",
   "execution_count": null,
   "id": "patient-petroleum",
   "metadata": {},
   "outputs": [],
   "source": []
  }
 ],
 "metadata": {
  "kernelspec": {
   "display_name": "Python [conda env:PythonData]",
   "language": "python",
   "name": "conda-env-PythonData-py"
  },
  "language_info": {
   "codemirror_mode": {
    "name": "ipython",
    "version": 3
   },
   "file_extension": ".py",
   "mimetype": "text/x-python",
   "name": "python",
   "nbconvert_exporter": "python",
   "pygments_lexer": "ipython3",
   "version": "3.6.13"
  }
 },
 "nbformat": 4,
 "nbformat_minor": 5
}
